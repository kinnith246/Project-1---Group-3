{
 "cells": [
  {
   "cell_type": "code",
   "execution_count": 173,
   "id": "87836916-d54d-484f-a805-8fd65943c0c7",
   "metadata": {},
   "outputs": [],
   "source": [
    "import pandas as pd\n",
    "import numpy as np\n",
    "import matplotlib.pyplot as plt\n"
   ]
  },
  {
   "cell_type": "code",
   "execution_count": 174,
   "id": "26ac24ac-757c-4c6d-b662-5170d6257a72",
   "metadata": {},
   "outputs": [
    {
     "data": {
      "text/plain": [
       "<bound method NDFrame.head of              Id ActivityDate  TotalSteps  TotalDistance  TrackerDistance  \\\n",
       "0    1503960366    3/25/2016       11004       7.110000         7.110000   \n",
       "1    1503960366    3/26/2016       17609      11.550000        11.550000   \n",
       "2    1503960366    3/27/2016       12736       8.530000         8.530000   \n",
       "3    1503960366    3/28/2016       13231       8.930000         8.930000   \n",
       "4    1503960366    3/29/2016       12041       7.850000         7.850000   \n",
       "..          ...          ...         ...            ...              ...   \n",
       "452  8877689391   04/08/2016       23014      20.389999        20.389999   \n",
       "453  8877689391   04/09/2016       16470       8.070000         8.070000   \n",
       "454  8877689391   04/10/2016       28497      27.530001        27.530001   \n",
       "455  8877689391   04/11/2016       10622       8.060000         8.060000   \n",
       "456  8877689391   04/12/2016        2350       1.780000         1.780000   \n",
       "\n",
       "     LoggedActivitiesDistance  VeryActiveDistance  ModeratelyActiveDistance  \\\n",
       "0                         0.0                2.57                      0.46   \n",
       "1                         0.0                6.92                      0.73   \n",
       "2                         0.0                4.66                      0.16   \n",
       "3                         0.0                3.19                      0.79   \n",
       "4                         0.0                2.16                      1.09   \n",
       "..                        ...                 ...                       ...   \n",
       "452                       0.0               11.10                      0.63   \n",
       "453                       0.0                0.00                      0.02   \n",
       "454                       0.0               21.92                      1.12   \n",
       "455                       0.0                1.47                      0.15   \n",
       "456                       0.0                0.00                      0.00   \n",
       "\n",
       "     LightActiveDistance  SedentaryActiveDistance  VeryActiveMinutes  \\\n",
       "0                   4.07                     0.00                 33   \n",
       "1                   3.91                     0.00                 89   \n",
       "2                   3.71                     0.00                 56   \n",
       "3                   4.95                     0.00                 39   \n",
       "4                   4.61                     0.00                 28   \n",
       "..                   ...                      ...                ...   \n",
       "452                 8.62                     0.00                 70   \n",
       "453                 8.02                     0.00                 90   \n",
       "454                 4.46                     0.00                128   \n",
       "455                 6.37                     0.01                 18   \n",
       "456                 1.78                     0.00                  0   \n",
       "\n",
       "     FairlyActiveMinutes  LightlyActiveMinutes  SedentaryMinutes  Calories  \n",
       "0                     12                   205               804      1819  \n",
       "1                     17                   274               588      2154  \n",
       "2                      5                   268               605      1944  \n",
       "3                     20                   224              1080      1932  \n",
       "4                     28                   243               763      1886  \n",
       "..                   ...                   ...               ...       ...  \n",
       "452                   29                   359               982      4196  \n",
       "453                    9                   289              1052      3841  \n",
       "454                   46                   211              1055      4526  \n",
       "455                    7                   225              1190      2820  \n",
       "456                    0                    58               531       938  \n",
       "\n",
       "[457 rows x 15 columns]>"
      ]
     },
     "execution_count": 174,
     "metadata": {},
     "output_type": "execute_result"
    }
   ],
   "source": [
    "# Reading CSV files into dataframes\n",
    "daily_activity_df = pd.read_csv(\"dailyActivity_merged (1).csv\")\n",
    "fitbit_df = pd.read_csv(\"FitBit data.csv\")\n",
    "\n",
    "#check DataFrames \n",
    "daily_activity_df.head()\n",
    "fitbit_df.head\n",
    "  "
   ]
  },
  {
   "cell_type": "code",
   "execution_count": 175,
   "id": "724f1cf3-90b1-4585-90a6-9106014575e4",
   "metadata": {},
   "outputs": [
    {
     "data": {
      "text/html": [
       "<div>\n",
       "<style scoped>\n",
       "    .dataframe tbody tr th:only-of-type {\n",
       "        vertical-align: middle;\n",
       "    }\n",
       "\n",
       "    .dataframe tbody tr th {\n",
       "        vertical-align: top;\n",
       "    }\n",
       "\n",
       "    .dataframe thead th {\n",
       "        text-align: right;\n",
       "    }\n",
       "</style>\n",
       "<table border=\"1\" class=\"dataframe\">\n",
       "  <thead>\n",
       "    <tr style=\"text-align: right;\">\n",
       "      <th></th>\n",
       "      <th>Id</th>\n",
       "      <th>ActivityDate</th>\n",
       "      <th>TotalSteps</th>\n",
       "      <th>TotalDistance</th>\n",
       "      <th>TrackerDistance</th>\n",
       "      <th>LoggedActivitiesDistance</th>\n",
       "      <th>VeryActiveDistance</th>\n",
       "      <th>ModeratelyActiveDistance</th>\n",
       "      <th>LightActiveDistance</th>\n",
       "      <th>SedentaryActiveDistance</th>\n",
       "      <th>VeryActiveMinutes</th>\n",
       "      <th>FairlyActiveMinutes</th>\n",
       "      <th>LightlyActiveMinutes</th>\n",
       "      <th>SedentaryMinutes</th>\n",
       "      <th>Calories</th>\n",
       "    </tr>\n",
       "  </thead>\n",
       "  <tbody>\n",
       "    <tr>\n",
       "      <th>0</th>\n",
       "      <td>1503960366</td>\n",
       "      <td>3/25/2016</td>\n",
       "      <td>11004</td>\n",
       "      <td>7.11</td>\n",
       "      <td>7.11</td>\n",
       "      <td>0.0</td>\n",
       "      <td>2.57</td>\n",
       "      <td>0.46</td>\n",
       "      <td>4.07</td>\n",
       "      <td>0.0</td>\n",
       "      <td>33</td>\n",
       "      <td>12</td>\n",
       "      <td>205</td>\n",
       "      <td>804</td>\n",
       "      <td>1819</td>\n",
       "    </tr>\n",
       "    <tr>\n",
       "      <th>1</th>\n",
       "      <td>1503960366</td>\n",
       "      <td>3/26/2016</td>\n",
       "      <td>17609</td>\n",
       "      <td>11.55</td>\n",
       "      <td>11.55</td>\n",
       "      <td>0.0</td>\n",
       "      <td>6.92</td>\n",
       "      <td>0.73</td>\n",
       "      <td>3.91</td>\n",
       "      <td>0.0</td>\n",
       "      <td>89</td>\n",
       "      <td>17</td>\n",
       "      <td>274</td>\n",
       "      <td>588</td>\n",
       "      <td>2154</td>\n",
       "    </tr>\n",
       "    <tr>\n",
       "      <th>2</th>\n",
       "      <td>1503960366</td>\n",
       "      <td>3/27/2016</td>\n",
       "      <td>12736</td>\n",
       "      <td>8.53</td>\n",
       "      <td>8.53</td>\n",
       "      <td>0.0</td>\n",
       "      <td>4.66</td>\n",
       "      <td>0.16</td>\n",
       "      <td>3.71</td>\n",
       "      <td>0.0</td>\n",
       "      <td>56</td>\n",
       "      <td>5</td>\n",
       "      <td>268</td>\n",
       "      <td>605</td>\n",
       "      <td>1944</td>\n",
       "    </tr>\n",
       "    <tr>\n",
       "      <th>3</th>\n",
       "      <td>1503960366</td>\n",
       "      <td>3/28/2016</td>\n",
       "      <td>13231</td>\n",
       "      <td>8.93</td>\n",
       "      <td>8.93</td>\n",
       "      <td>0.0</td>\n",
       "      <td>3.19</td>\n",
       "      <td>0.79</td>\n",
       "      <td>4.95</td>\n",
       "      <td>0.0</td>\n",
       "      <td>39</td>\n",
       "      <td>20</td>\n",
       "      <td>224</td>\n",
       "      <td>1080</td>\n",
       "      <td>1932</td>\n",
       "    </tr>\n",
       "    <tr>\n",
       "      <th>4</th>\n",
       "      <td>1503960366</td>\n",
       "      <td>3/29/2016</td>\n",
       "      <td>12041</td>\n",
       "      <td>7.85</td>\n",
       "      <td>7.85</td>\n",
       "      <td>0.0</td>\n",
       "      <td>2.16</td>\n",
       "      <td>1.09</td>\n",
       "      <td>4.61</td>\n",
       "      <td>0.0</td>\n",
       "      <td>28</td>\n",
       "      <td>28</td>\n",
       "      <td>243</td>\n",
       "      <td>763</td>\n",
       "      <td>1886</td>\n",
       "    </tr>\n",
       "  </tbody>\n",
       "</table>\n",
       "</div>"
      ],
      "text/plain": [
       "           Id ActivityDate  TotalSteps  TotalDistance  TrackerDistance  \\\n",
       "0  1503960366    3/25/2016       11004           7.11             7.11   \n",
       "1  1503960366    3/26/2016       17609          11.55            11.55   \n",
       "2  1503960366    3/27/2016       12736           8.53             8.53   \n",
       "3  1503960366    3/28/2016       13231           8.93             8.93   \n",
       "4  1503960366    3/29/2016       12041           7.85             7.85   \n",
       "\n",
       "   LoggedActivitiesDistance  VeryActiveDistance  ModeratelyActiveDistance  \\\n",
       "0                       0.0                2.57                      0.46   \n",
       "1                       0.0                6.92                      0.73   \n",
       "2                       0.0                4.66                      0.16   \n",
       "3                       0.0                3.19                      0.79   \n",
       "4                       0.0                2.16                      1.09   \n",
       "\n",
       "   LightActiveDistance  SedentaryActiveDistance  VeryActiveMinutes  \\\n",
       "0                 4.07                      0.0                 33   \n",
       "1                 3.91                      0.0                 89   \n",
       "2                 3.71                      0.0                 56   \n",
       "3                 4.95                      0.0                 39   \n",
       "4                 4.61                      0.0                 28   \n",
       "\n",
       "   FairlyActiveMinutes  LightlyActiveMinutes  SedentaryMinutes  Calories  \n",
       "0                   12                   205               804      1819  \n",
       "1                   17                   274               588      2154  \n",
       "2                    5                   268               605      1944  \n",
       "3                   20                   224              1080      1932  \n",
       "4                   28                   243               763      1886  "
      ]
     },
     "execution_count": 175,
     "metadata": {},
     "output_type": "execute_result"
    }
   ],
   "source": [
    "fitbit_df.head()"
   ]
  },
  {
   "cell_type": "code",
   "execution_count": 176,
   "id": "4cf765fa-7da6-42c2-ae54-c1fcb813bcdf",
   "metadata": {},
   "outputs": [
    {
     "name": "stdout",
     "output_type": "stream",
     "text": [
      "Index(['Id', 'ActivityDate', 'TotalSteps', 'TotalDistance', 'TrackerDistance',\n",
      "       'LoggedActivitiesDistance', 'VeryActiveDistance',\n",
      "       'ModeratelyActiveDistance', 'LightActiveDistance',\n",
      "       'SedentaryActiveDistance', 'VeryActiveMinutes', 'FairlyActiveMinutes',\n",
      "       'LightlyActiveMinutes', 'SedentaryMinutes', 'Calories'],\n",
      "      dtype='object')\n",
      "Index(['Id', 'ActivityDate', 'TotalSteps', 'TotalDistance', 'TrackerDistance',\n",
      "       'LoggedActivitiesDistance', 'VeryActiveDistance',\n",
      "       'ModeratelyActiveDistance', 'LightActiveDistance',\n",
      "       'SedentaryActiveDistance', 'VeryActiveMinutes', 'FairlyActiveMinutes',\n",
      "       'LightlyActiveMinutes', 'SedentaryMinutes', 'Calories'],\n",
      "      dtype='object')\n"
     ]
    }
   ],
   "source": [
    "#Print the column names\n",
    "print(daily_activity_df.columns)\n",
    "print(fitbit_df .columns)   "
   ]
  },
  {
   "cell_type": "code",
   "execution_count": 177,
   "id": "42be7e27-f473-4816-8bcf-774455fef530",
   "metadata": {},
   "outputs": [
    {
     "data": {
      "text/html": [
       "<div>\n",
       "<style scoped>\n",
       "    .dataframe tbody tr th:only-of-type {\n",
       "        vertical-align: middle;\n",
       "    }\n",
       "\n",
       "    .dataframe tbody tr th {\n",
       "        vertical-align: top;\n",
       "    }\n",
       "\n",
       "    .dataframe thead th {\n",
       "        text-align: right;\n",
       "    }\n",
       "</style>\n",
       "<table border=\"1\" class=\"dataframe\">\n",
       "  <thead>\n",
       "    <tr style=\"text-align: right;\">\n",
       "      <th></th>\n",
       "      <th>Id</th>\n",
       "      <th>ActivityDate</th>\n",
       "      <th>TotalSteps</th>\n",
       "      <th>TotalDistance</th>\n",
       "      <th>TrackerDistance</th>\n",
       "      <th>LoggedActivitiesDistance</th>\n",
       "      <th>VeryActiveDistance</th>\n",
       "      <th>ModeratelyActiveDistance</th>\n",
       "      <th>LightActiveDistance</th>\n",
       "      <th>SedentaryActiveDistance</th>\n",
       "      <th>VeryActiveMinutes</th>\n",
       "      <th>FairlyActiveMinutes</th>\n",
       "      <th>LightlyActiveMinutes</th>\n",
       "      <th>SedentaryMinutes</th>\n",
       "      <th>Calories</th>\n",
       "    </tr>\n",
       "  </thead>\n",
       "  <tbody>\n",
       "    <tr>\n",
       "      <th>0</th>\n",
       "      <td>1503960366</td>\n",
       "      <td>4/12/2016</td>\n",
       "      <td>13162</td>\n",
       "      <td>8.50</td>\n",
       "      <td>8.50</td>\n",
       "      <td>0.0</td>\n",
       "      <td>1.88</td>\n",
       "      <td>0.55</td>\n",
       "      <td>6.06</td>\n",
       "      <td>0.0</td>\n",
       "      <td>25</td>\n",
       "      <td>13</td>\n",
       "      <td>328</td>\n",
       "      <td>728</td>\n",
       "      <td>1985</td>\n",
       "    </tr>\n",
       "    <tr>\n",
       "      <th>1</th>\n",
       "      <td>1503960366</td>\n",
       "      <td>4/13/2016</td>\n",
       "      <td>10735</td>\n",
       "      <td>6.97</td>\n",
       "      <td>6.97</td>\n",
       "      <td>0.0</td>\n",
       "      <td>1.57</td>\n",
       "      <td>0.69</td>\n",
       "      <td>4.71</td>\n",
       "      <td>0.0</td>\n",
       "      <td>21</td>\n",
       "      <td>19</td>\n",
       "      <td>217</td>\n",
       "      <td>776</td>\n",
       "      <td>1797</td>\n",
       "    </tr>\n",
       "    <tr>\n",
       "      <th>2</th>\n",
       "      <td>1503960366</td>\n",
       "      <td>4/14/2016</td>\n",
       "      <td>10460</td>\n",
       "      <td>6.74</td>\n",
       "      <td>6.74</td>\n",
       "      <td>0.0</td>\n",
       "      <td>2.44</td>\n",
       "      <td>0.40</td>\n",
       "      <td>3.91</td>\n",
       "      <td>0.0</td>\n",
       "      <td>30</td>\n",
       "      <td>11</td>\n",
       "      <td>181</td>\n",
       "      <td>1218</td>\n",
       "      <td>1776</td>\n",
       "    </tr>\n",
       "    <tr>\n",
       "      <th>3</th>\n",
       "      <td>1503960366</td>\n",
       "      <td>4/15/2016</td>\n",
       "      <td>9762</td>\n",
       "      <td>6.28</td>\n",
       "      <td>6.28</td>\n",
       "      <td>0.0</td>\n",
       "      <td>2.14</td>\n",
       "      <td>1.26</td>\n",
       "      <td>2.83</td>\n",
       "      <td>0.0</td>\n",
       "      <td>29</td>\n",
       "      <td>34</td>\n",
       "      <td>209</td>\n",
       "      <td>726</td>\n",
       "      <td>1745</td>\n",
       "    </tr>\n",
       "    <tr>\n",
       "      <th>4</th>\n",
       "      <td>1503960366</td>\n",
       "      <td>4/16/2016</td>\n",
       "      <td>12669</td>\n",
       "      <td>8.16</td>\n",
       "      <td>8.16</td>\n",
       "      <td>0.0</td>\n",
       "      <td>2.71</td>\n",
       "      <td>0.41</td>\n",
       "      <td>5.04</td>\n",
       "      <td>0.0</td>\n",
       "      <td>36</td>\n",
       "      <td>10</td>\n",
       "      <td>221</td>\n",
       "      <td>773</td>\n",
       "      <td>1863</td>\n",
       "    </tr>\n",
       "  </tbody>\n",
       "</table>\n",
       "</div>"
      ],
      "text/plain": [
       "           Id ActivityDate  TotalSteps  TotalDistance  TrackerDistance  \\\n",
       "0  1503960366    4/12/2016       13162           8.50             8.50   \n",
       "1  1503960366    4/13/2016       10735           6.97             6.97   \n",
       "2  1503960366    4/14/2016       10460           6.74             6.74   \n",
       "3  1503960366    4/15/2016        9762           6.28             6.28   \n",
       "4  1503960366    4/16/2016       12669           8.16             8.16   \n",
       "\n",
       "   LoggedActivitiesDistance  VeryActiveDistance  ModeratelyActiveDistance  \\\n",
       "0                       0.0                1.88                      0.55   \n",
       "1                       0.0                1.57                      0.69   \n",
       "2                       0.0                2.44                      0.40   \n",
       "3                       0.0                2.14                      1.26   \n",
       "4                       0.0                2.71                      0.41   \n",
       "\n",
       "   LightActiveDistance  SedentaryActiveDistance  VeryActiveMinutes  \\\n",
       "0                 6.06                      0.0                 25   \n",
       "1                 4.71                      0.0                 21   \n",
       "2                 3.91                      0.0                 30   \n",
       "3                 2.83                      0.0                 29   \n",
       "4                 5.04                      0.0                 36   \n",
       "\n",
       "   FairlyActiveMinutes  LightlyActiveMinutes  SedentaryMinutes  Calories  \n",
       "0                   13                   328               728      1985  \n",
       "1                   19                   217               776      1797  \n",
       "2                   11                   181              1218      1776  \n",
       "3                   34                   209               726      1745  \n",
       "4                   10                   221               773      1863  "
      ]
     },
     "execution_count": 177,
     "metadata": {},
     "output_type": "execute_result"
    }
   ],
   "source": [
    "#merging the DataFrames\n",
    "merged_df = pd.concat([daily_activity_df, fitbit_df], ignore_index=True)\n",
    "merged_df.head()"
   ]
  },
  {
   "cell_type": "code",
   "execution_count": 178,
   "id": "7b76baf9-44d3-42b8-9c3b-a16be0235950",
   "metadata": {},
   "outputs": [
    {
     "name": "stdout",
     "output_type": "stream",
     "text": [
      "merged_df: 1397\n"
     ]
    }
   ],
   "source": [
    "# Print the number of rows in the merged dataset\n",
    "print(\"merged_df:\", len(merged_df))"
   ]
  },
  {
   "cell_type": "code",
   "execution_count": 179,
   "id": "4f55f1da-27c0-4133-aab8-68a9e1b8d03c",
   "metadata": {},
   "outputs": [],
   "source": [
    "# find the duplicate rows by  ID, activity date and total distance\n",
    "duplicate_df = merged_df[merged_df.duplicated(subset=[\"Id\", \"ActivityDate\", \"TotalSteps\"])]\n",
    "\n",
    "# Remove duplicates from the original data based on specific columns\n",
    "cleaned_data = merged_df.drop_duplicates(subset=['Id', 'ActivityDate', 'TotalSteps'])\n",
    "\n",
    "duplicate_df.to_csv(\"duplicates.csv\", index=False)\n",
    "cleaned_data.to_csv(\"cleaned_data.csv\", index=False)"
   ]
  },
  {
   "cell_type": "code",
   "execution_count": 180,
   "id": "ae7b73df-230e-4df0-b2f7-ca7c88f96f84",
   "metadata": {},
   "outputs": [],
   "source": [
    "## look at data \n",
    "cleaned_data.head()\n",
    "## export as an excel file \n",
    "cleaned_data.to_excel(\"cleaneddata.xlsx\",)"
   ]
  },
  {
   "cell_type": "code",
   "execution_count": null,
   "id": "7ef688f1-69b9-4588-8648-88e39ea5f38d",
   "metadata": {},
   "outputs": [],
   "source": []
  },
  {
   "cell_type": "code",
   "execution_count": 181,
   "id": "69dec543-9ccb-4d43-89ac-1aad342ad42c",
   "metadata": {},
   "outputs": [
    {
     "name": "stdout",
     "output_type": "stream",
     "text": [
      "1397\n",
      "35\n"
     ]
    }
   ],
   "source": [
    "### check cleaned data size\n",
    "count_rows = len(cleaned_data)\n",
    "print(count_rows)\n",
    "## check number of participants \n",
    "count_ID = len(pd.unique(cleaned_data['Id']))\n",
    "print(count_ID)"
   ]
  },
  {
   "cell_type": "code",
   "execution_count": 182,
   "id": "f7defabe-35f9-4064-8940-2b733a6550cf",
   "metadata": {},
   "outputs": [],
   "source": [
    "##START OF AISLING'S PART\n",
    "#Extract relevant columns for my tests\n",
    "activity_levels = cleaned_data[[\"Id\",\"TotalSteps\",\"VeryActiveMinutes\",\"FairlyActiveMinutes\", \"LightlyActiveMinutes\", \"SedentaryMinutes\"]]\n",
    "activity_levels.head()\n",
    "activity_levels.to_excel(\"activity_levels.xlsx\",)"
   ]
  },
  {
   "cell_type": "markdown",
   "id": "c0c372f1-a817-443c-8ff6-8153ac539445",
   "metadata": {},
   "source": [
    "### Intro: The 10,000 step goal by Aisling Geraghty"
   ]
  },
  {
   "cell_type": "markdown",
   "id": "7a926143-5f34-444f-8080-4f2ed8508af5",
   "metadata": {},
   "source": [
    "Fitbit advertises 10,000 steps as the goal all users should seek to attain daily. By purchasing a fitbit, users are choosing to engage with a fitness tool that measures their steps as a form of activity. Here we look at how users performed with regards to the 10,000 steps daily goal that is encouraged by fitbit. The use of steps as a metric is then further explored by breaking step ranges into activity levels, whereby the distribution of users is explored by their average step activity. Using chi-squared, the variation of users by step activity is tested for statistical significance. \n",
    "\n",
    "Through this analysis we are looking to discover the appropriateness of the 10,000 steps goal, how achievable was it? We are looking to see if there is an even spread of user types within the sample, or whether those purchasing a fitbit favoured a specific range of steps. Lastly, we will compare the activity levels by step of this sample size with results from the Australian Bureau of Statistics, to see how those who have chosen to measure their steps compare in activity with the general population. \n"
   ]
  },
  {
   "cell_type": "code",
   "execution_count": 185,
   "id": "80fa8333-9900-4637-8371-08f5cfec01c6",
   "metadata": {},
   "outputs": [
    {
     "name": "stdout",
     "output_type": "stream",
     "text": [
      "430\n"
     ]
    },
    {
     "data": {
      "text/html": [
       "<div>\n",
       "<style scoped>\n",
       "    .dataframe tbody tr th:only-of-type {\n",
       "        vertical-align: middle;\n",
       "    }\n",
       "\n",
       "    .dataframe tbody tr th {\n",
       "        vertical-align: top;\n",
       "    }\n",
       "\n",
       "    .dataframe thead th {\n",
       "        text-align: right;\n",
       "    }\n",
       "</style>\n",
       "<table border=\"1\" class=\"dataframe\">\n",
       "  <thead>\n",
       "    <tr style=\"text-align: right;\">\n",
       "      <th></th>\n",
       "      <th>Id</th>\n",
       "      <th>TotalSteps</th>\n",
       "    </tr>\n",
       "  </thead>\n",
       "  <tbody>\n",
       "    <tr>\n",
       "      <th>0</th>\n",
       "      <td>1503960366</td>\n",
       "      <td>13162</td>\n",
       "    </tr>\n",
       "    <tr>\n",
       "      <th>1</th>\n",
       "      <td>1503960366</td>\n",
       "      <td>10735</td>\n",
       "    </tr>\n",
       "    <tr>\n",
       "      <th>2</th>\n",
       "      <td>1503960366</td>\n",
       "      <td>10460</td>\n",
       "    </tr>\n",
       "    <tr>\n",
       "      <th>4</th>\n",
       "      <td>1503960366</td>\n",
       "      <td>12669</td>\n",
       "    </tr>\n",
       "    <tr>\n",
       "      <th>6</th>\n",
       "      <td>1503960366</td>\n",
       "      <td>13019</td>\n",
       "    </tr>\n",
       "    <tr>\n",
       "      <th>...</th>\n",
       "      <td>...</td>\n",
       "      <td>...</td>\n",
       "    </tr>\n",
       "    <tr>\n",
       "      <th>1391</th>\n",
       "      <td>8877689391</td>\n",
       "      <td>10910</td>\n",
       "    </tr>\n",
       "    <tr>\n",
       "      <th>1392</th>\n",
       "      <td>8877689391</td>\n",
       "      <td>23014</td>\n",
       "    </tr>\n",
       "    <tr>\n",
       "      <th>1393</th>\n",
       "      <td>8877689391</td>\n",
       "      <td>16470</td>\n",
       "    </tr>\n",
       "    <tr>\n",
       "      <th>1394</th>\n",
       "      <td>8877689391</td>\n",
       "      <td>28497</td>\n",
       "    </tr>\n",
       "    <tr>\n",
       "      <th>1395</th>\n",
       "      <td>8877689391</td>\n",
       "      <td>10622</td>\n",
       "    </tr>\n",
       "  </tbody>\n",
       "</table>\n",
       "<p>430 rows × 2 columns</p>\n",
       "</div>"
      ],
      "text/plain": [
       "              Id  TotalSteps\n",
       "0     1503960366       13162\n",
       "1     1503960366       10735\n",
       "2     1503960366       10460\n",
       "4     1503960366       12669\n",
       "6     1503960366       13019\n",
       "...          ...         ...\n",
       "1391  8877689391       10910\n",
       "1392  8877689391       23014\n",
       "1393  8877689391       16470\n",
       "1394  8877689391       28497\n",
       "1395  8877689391       10622\n",
       "\n",
       "[430 rows x 2 columns]"
      ]
     },
     "execution_count": 185,
     "metadata": {},
     "output_type": "execute_result"
    }
   ],
   "source": [
    "### Part 1\n",
    "### HOW MANY REACHED THE GOAL OF 10,000 STEPS, AND WHAT WERE THE AVERAGE STEPS \n",
    "goal_reached = activity_levels.loc[activity_levels[\"TotalSteps\"] >= 10000, [\"Id\", \"TotalSteps\"]]\n",
    "goal_reached.head()\n",
    "count_reached = len(goal_reached)\n",
    "print(count_reached)\n",
    "goal_reached\n"
   ]
  },
  {
   "cell_type": "code",
   "execution_count": 186,
   "id": "e6685c46-4600-4818-94c9-9d26533925b3",
   "metadata": {},
   "outputs": [
    {
     "name": "stdout",
     "output_type": "stream",
     "text": [
      "31%\n"
     ]
    }
   ],
   "source": [
    "## percentage of entrees that met this goal \n",
    "##RESULT 1\n",
    "successful_days = f\"{430/1397:.0%}\"\n",
    "print(successful_days)"
   ]
  },
  {
   "cell_type": "code",
   "execution_count": 187,
   "id": "4f3c6aee-1723-464f-8dda-afc7f60b97d0",
   "metadata": {},
   "outputs": [
    {
     "data": {
      "text/plain": [
       "26"
      ]
     },
     "execution_count": 187,
     "metadata": {},
     "output_type": "execute_result"
    }
   ],
   "source": [
    "###number of individuals reaching goal \n",
    "no_individuals = len(pd.unique(goal_reached['Id']))\n",
    "no_individuals \n"
   ]
  },
  {
   "cell_type": "code",
   "execution_count": 188,
   "id": "23af2a96-283d-4402-b298-f37186d5bdba",
   "metadata": {},
   "outputs": [
    {
     "name": "stdout",
     "output_type": "stream",
     "text": [
      "74.285714%\n"
     ]
    }
   ],
   "source": [
    "##RESULT 2\n",
    "###percentage of participants that reached the 10,000 steps goal \n",
    "percentage_participants = f\"{26/35:0%}\"\n",
    "print(percentage_participants)\n"
   ]
  },
  {
   "cell_type": "code",
   "execution_count": 189,
   "id": "9e670f8a-2c8c-47c2-b241-ae3622e818b4",
   "metadata": {},
   "outputs": [
    {
     "name": "stdout",
     "output_type": "stream",
     "text": [
      "7280.898353614889\n"
     ]
    }
   ],
   "source": [
    "##Result 3\n",
    "##Average steps of users\n",
    "average_steps_overall = activity_levels['TotalSteps'].mean()\n",
    "print(average_steps_overall)\n"
   ]
  },
  {
   "cell_type": "code",
   "execution_count": 190,
   "id": "c16b9430-cab0-44cb-bb11-1851e8a5dd16",
   "metadata": {},
   "outputs": [
    {
     "data": {
      "text/html": [
       "<div>\n",
       "<style scoped>\n",
       "    .dataframe tbody tr th:only-of-type {\n",
       "        vertical-align: middle;\n",
       "    }\n",
       "\n",
       "    .dataframe tbody tr th {\n",
       "        vertical-align: top;\n",
       "    }\n",
       "\n",
       "    .dataframe thead th {\n",
       "        text-align: right;\n",
       "    }\n",
       "</style>\n",
       "<table border=\"1\" class=\"dataframe\">\n",
       "  <thead>\n",
       "    <tr style=\"text-align: right;\">\n",
       "      <th></th>\n",
       "      <th>Percentage of time goal was met</th>\n",
       "      <th>Percentage of participants that reached goal</th>\n",
       "      <th>Average steps taken</th>\n",
       "    </tr>\n",
       "  </thead>\n",
       "  <tbody>\n",
       "    <tr>\n",
       "      <th>0</th>\n",
       "      <td>31%</td>\n",
       "      <td>74.285714%</td>\n",
       "      <td>7280.898354</td>\n",
       "    </tr>\n",
       "  </tbody>\n",
       "</table>\n",
       "</div>"
      ],
      "text/plain": [
       "  Percentage of time goal was met  \\\n",
       "0                             31%   \n",
       "\n",
       "  Percentage of participants that reached goal  Average steps taken  \n",
       "0                                   74.285714%          7280.898354  "
      ]
     },
     "execution_count": 190,
     "metadata": {},
     "output_type": "execute_result"
    }
   ],
   "source": [
    "#### results table \n",
    "\n",
    "steps_results = {\n",
    "    'Percentage of time goal was met': [successful_days],\n",
    "    'Percentage of participants that reached goal': [percentage_participants],\n",
    "    'Average steps taken' : [average_steps_overall],\n",
    "}\n",
    "\n",
    "steps_results\n",
    "\n",
    "steps_table = pd.DataFrame(data=steps_results)\n",
    "steps_table \n"
   ]
  },
  {
   "cell_type": "markdown",
   "id": "ce6c5d58-6923-4aca-b81c-678dc2dfdf66",
   "metadata": {},
   "source": [
    "Notation:\n",
    "This results table extracts some key findings. 31% of entrees achieved the 10,000 step goal. This is a substantial enough number that presents the goal as relatively achievable. Furthermore, 74% of participants reached the goal at least once, showing that a majority of users rose to the challenge. \n",
    "On average, the total steps of users was still high, falling short of 10,000 by 2720 steps. Given that the data was accumulated over a short timeframe, the gap between the average steps taken, and fitbit's goal, could likely be closed by the majority of users, if given more time to interact with the tool. "
   ]
  },
  {
   "cell_type": "code",
   "execution_count": 209,
   "id": "2c71d5da-fe49-4d2d-8278-7cb87dd6097f",
   "metadata": {
    "scrolled": true
   },
   "outputs": [
    {
     "data": {
      "image/png": "[encoded data removed]",
      "text/plain": [
       "<Figure size 640x480 with 1 Axes>"
      ]
     },
     "metadata": {},
     "output_type": "display_data"
    }
   ],
   "source": [
    "###Part 2 graph building \n",
    "import matplotlib.pyplot as plt\n",
    "\n",
    "activity_levels.plot.scatter(x='Id', y='TotalSteps')\n",
    "plt.axhline(y = 10000, color = 'r', linestyle = '-')\n",
    "plt.xlabel('Participants')\n",
    "plt.ylabel('Total steps')\n",
    "plt.title('Daily steps vs Daily goal')\n",
    "plt.tick_params(labelbottom = False, bottom = False)\n",
    "\n",
    "\n",
    "\n"
   ]
  },
  {
   "cell_type": "code",
   "execution_count": 209,
   "id": "f37bcb0c-6e9e-42d8-ae47-c2a0d3c7c3b6",
   "metadata": {
    "scrolled": true
   },
   "outputs": [
    {
     "data": {
      "image/png": "[encoded data removed]",
      "text/plain": [
       "<Figure size 640x480 with 1 Axes>"
      ]
     },
     "metadata": {},
     "output_type": "display_data"
    }
   ],
   "source": [
    "###Part 2 graph building \n",
    "import matplotlib.pyplot as plt\n",
    "\n",
    "activity_levels.plot.scatter(x='Id', y='TotalSteps')\n",
    "plt.axhline(y = 10000, color = 'r', linestyle = '-')\n",
    "plt.xlabel('Participants')\n",
    "plt.ylabel('Total steps')\n",
    "plt.title('Daily steps vs Daily goal')\n",
    "plt.tick_params(labelbottom = False, bottom = False)\n",
    "\n",
    "\n",
    "\n"
   ]
  },
  {
   "cell_type": "code",
   "execution_count": null,
   "id": "e2f1b5eb-cbe8-4cb8-bf8e-cbde13d6707b",
   "metadata": {
    "scrolled": true
   },
   "outputs": [],
   "source": [
    "###Part 2 graph building \n",
    "import matplotlib.pyplot as plt\n",
    "\n",
    "activity_levels.plot.scatter(x='Id', y='TotalSteps')\n",
    "plt.axhline(y = 10000, color = 'r', linestyle = '-')\n",
    "plt.xlabel('Participants')\n",
    "plt.ylabel('Total steps')\n",
    "plt.title('Daily steps vs Daily goal')\n",
    "plt.tick_params(labelbottom = False, bottom = False)\n",
    "plt.show()\n",
    "\n",
    "\n"
   ]
  },
  {
   "cell_type": "markdown",
   "id": "7543c168-5e20-4e6e-a038-86b58a94b3cd",
   "metadata": {},
   "source": [
    "Analysis\n",
    "\n",
    "This graph shows the daily step entrees of each participant, and a threshold line for the 10,000 steps goal. The data shows huge variation in the daily steps of users, as well as clear incidents of abnormal levels of activity, such as the entry of over 35000 steps for one day. The entries are more clustered and dense beneath the 10,000 mark, which is where 79% of entries are situated. \n",
    "\n",
    "From the spread of data, it is clear that users showed variation in their activity levels, and that most users achieved the goal at least once. \n",
    "Given that 31% of entrees reached the goal, it is clear the goal is achievable but not easy. The achievable nature is substantiated by the majority reaching, and/or exceeding the goal at least once within a short study.\n",
    "\n",
    "Given that the 10,000 step goal is 2720 steps above the average, it poses itself as a challenge that is not out of reach to obtain, but seemingly difficult to maintain. "
   ]
  },
  {
   "cell_type": "code",
   "execution_count": 40,
   "id": "71cd363c-6922-4dff-9cde-a9e0b9137895",
   "metadata": {
    "scrolled": true
   },
   "outputs": [
    {
     "data": {
      "text/html": [
       "<div>\n",
       "<style scoped>\n",
       "    .dataframe tbody tr th:only-of-type {\n",
       "        vertical-align: middle;\n",
       "    }\n",
       "\n",
       "    .dataframe tbody tr th {\n",
       "        vertical-align: top;\n",
       "    }\n",
       "\n",
       "    .dataframe thead th {\n",
       "        text-align: right;\n",
       "    }\n",
       "</style>\n",
       "<table border=\"1\" class=\"dataframe\">\n",
       "  <thead>\n",
       "    <tr style=\"text-align: right;\">\n",
       "      <th></th>\n",
       "      <th>Id</th>\n",
       "      <th>Average_steps</th>\n",
       "    </tr>\n",
       "  </thead>\n",
       "  <tbody>\n",
       "    <tr>\n",
       "      <th>0</th>\n",
       "      <td>1503960366</td>\n",
       "      <td>11935.780000</td>\n",
       "    </tr>\n",
       "    <tr>\n",
       "      <th>1</th>\n",
       "      <td>1624580081</td>\n",
       "      <td>5167.200000</td>\n",
       "    </tr>\n",
       "    <tr>\n",
       "      <th>2</th>\n",
       "      <td>1644430081</td>\n",
       "      <td>7780.925000</td>\n",
       "    </tr>\n",
       "    <tr>\n",
       "      <th>3</th>\n",
       "      <td>1844505072</td>\n",
       "      <td>2876.023256</td>\n",
       "    </tr>\n",
       "    <tr>\n",
       "      <th>4</th>\n",
       "      <td>1927972279</td>\n",
       "      <td>1269.069767</td>\n",
       "    </tr>\n",
       "    <tr>\n",
       "      <th>5</th>\n",
       "      <td>2022484408</td>\n",
       "      <td>11595.093023</td>\n",
       "    </tr>\n",
       "    <tr>\n",
       "      <th>6</th>\n",
       "      <td>2026352035</td>\n",
       "      <td>4960.139535</td>\n",
       "    </tr>\n",
       "    <tr>\n",
       "      <th>7</th>\n",
       "      <td>2320127002</td>\n",
       "      <td>4276.372093</td>\n",
       "    </tr>\n",
       "    <tr>\n",
       "      <th>8</th>\n",
       "      <td>2347167796</td>\n",
       "      <td>9647.121212</td>\n",
       "    </tr>\n",
       "    <tr>\n",
       "      <th>9</th>\n",
       "      <td>2873212765</td>\n",
       "      <td>7299.255814</td>\n",
       "    </tr>\n",
       "    <tr>\n",
       "      <th>10</th>\n",
       "      <td>2891001357</td>\n",
       "      <td>773.625000</td>\n",
       "    </tr>\n",
       "    <tr>\n",
       "      <th>11</th>\n",
       "      <td>3372868164</td>\n",
       "      <td>6616.933333</td>\n",
       "    </tr>\n",
       "    <tr>\n",
       "      <th>12</th>\n",
       "      <td>3977333714</td>\n",
       "      <td>10321.523810</td>\n",
       "    </tr>\n",
       "    <tr>\n",
       "      <th>13</th>\n",
       "      <td>4020332650</td>\n",
       "      <td>4049.761905</td>\n",
       "    </tr>\n",
       "    <tr>\n",
       "      <th>14</th>\n",
       "      <td>4057192912</td>\n",
       "      <td>2103.972222</td>\n",
       "    </tr>\n",
       "    <tr>\n",
       "      <th>15</th>\n",
       "      <td>4319703577</td>\n",
       "      <td>7422.813953</td>\n",
       "    </tr>\n",
       "    <tr>\n",
       "      <th>16</th>\n",
       "      <td>4388161847</td>\n",
       "      <td>8595.692308</td>\n",
       "    </tr>\n",
       "    <tr>\n",
       "      <th>17</th>\n",
       "      <td>4445114986</td>\n",
       "      <td>4632.369565</td>\n",
       "    </tr>\n",
       "    <tr>\n",
       "      <th>18</th>\n",
       "      <td>4558609924</td>\n",
       "      <td>7154.930233</td>\n",
       "    </tr>\n",
       "    <tr>\n",
       "      <th>19</th>\n",
       "      <td>4702921684</td>\n",
       "      <td>8367.065217</td>\n",
       "    </tr>\n",
       "    <tr>\n",
       "      <th>20</th>\n",
       "      <td>5553957443</td>\n",
       "      <td>8540.627907</td>\n",
       "    </tr>\n",
       "    <tr>\n",
       "      <th>21</th>\n",
       "      <td>5577150313</td>\n",
       "      <td>8385.926829</td>\n",
       "    </tr>\n",
       "    <tr>\n",
       "      <th>22</th>\n",
       "      <td>6117666160</td>\n",
       "      <td>7363.000000</td>\n",
       "    </tr>\n",
       "    <tr>\n",
       "      <th>23</th>\n",
       "      <td>6290855005</td>\n",
       "      <td>4615.846154</td>\n",
       "    </tr>\n",
       "    <tr>\n",
       "      <th>24</th>\n",
       "      <td>6391747486</td>\n",
       "      <td>1336.888889</td>\n",
       "    </tr>\n",
       "    <tr>\n",
       "      <th>25</th>\n",
       "      <td>6775888955</td>\n",
       "      <td>3301.228571</td>\n",
       "    </tr>\n",
       "    <tr>\n",
       "      <th>26</th>\n",
       "      <td>6962181067</td>\n",
       "      <td>10679.888889</td>\n",
       "    </tr>\n",
       "    <tr>\n",
       "      <th>27</th>\n",
       "      <td>7007744171</td>\n",
       "      <td>11619.289474</td>\n",
       "    </tr>\n",
       "    <tr>\n",
       "      <th>28</th>\n",
       "      <td>7086361926</td>\n",
       "      <td>8459.813953</td>\n",
       "    </tr>\n",
       "    <tr>\n",
       "      <th>29</th>\n",
       "      <td>8053475328</td>\n",
       "      <td>14784.523810</td>\n",
       "    </tr>\n",
       "    <tr>\n",
       "      <th>30</th>\n",
       "      <td>8253242879</td>\n",
       "      <td>4898.064516</td>\n",
       "    </tr>\n",
       "    <tr>\n",
       "      <th>31</th>\n",
       "      <td>8378563200</td>\n",
       "      <td>8555.162791</td>\n",
       "    </tr>\n",
       "    <tr>\n",
       "      <th>32</th>\n",
       "      <td>8583815059</td>\n",
       "      <td>6346.615385</td>\n",
       "    </tr>\n",
       "    <tr>\n",
       "      <th>33</th>\n",
       "      <td>8792009665</td>\n",
       "      <td>2217.000000</td>\n",
       "    </tr>\n",
       "    <tr>\n",
       "      <th>34</th>\n",
       "      <td>8877689391</td>\n",
       "      <td>16424.325581</td>\n",
       "    </tr>\n",
       "  </tbody>\n",
       "</table>\n",
       "</div>"
      ],
      "text/plain": [
       "            Id  Average_steps\n",
       "0   1503960366   11935.780000\n",
       "1   1624580081    5167.200000\n",
       "2   1644430081    7780.925000\n",
       "3   1844505072    2876.023256\n",
       "4   1927972279    1269.069767\n",
       "5   2022484408   11595.093023\n",
       "6   2026352035    4960.139535\n",
       "7   2320127002    4276.372093\n",
       "8   2347167796    9647.121212\n",
       "9   2873212765    7299.255814\n",
       "10  2891001357     773.625000\n",
       "11  3372868164    6616.933333\n",
       "12  3977333714   10321.523810\n",
       "13  4020332650    4049.761905\n",
       "14  4057192912    2103.972222\n",
       "15  4319703577    7422.813953\n",
       "16  4388161847    8595.692308\n",
       "17  4445114986    4632.369565\n",
       "18  4558609924    7154.930233\n",
       "19  4702921684    8367.065217\n",
       "20  5553957443    8540.627907\n",
       "21  5577150313    8385.926829\n",
       "22  6117666160    7363.000000\n",
       "23  6290855005    4615.846154\n",
       "24  6391747486    1336.888889\n",
       "25  6775888955    3301.228571\n",
       "26  6962181067   10679.888889\n",
       "27  7007744171   11619.289474\n",
       "28  7086361926    8459.813953\n",
       "29  8053475328   14784.523810\n",
       "30  8253242879    4898.064516\n",
       "31  8378563200    8555.162791\n",
       "32  8583815059    6346.615385\n",
       "33  8792009665    2217.000000\n",
       "34  8877689391   16424.325581"
      ]
     },
     "execution_count": 40,
     "metadata": {},
     "output_type": "execute_result"
    }
   ],
   "source": [
    "##### PART 2 Graphical depiction \n",
    "### Average steps per person\n",
    "\n",
    "average_steps = cleaned_data.groupby('Id', as_index=False).agg(Average_steps=pd.NamedAgg(column='TotalSteps', aggfunc='mean'))\n",
    "#average_steps = cleaned_data.groupby(\"Id\")[\"TotalSteps\"].mean()\n",
    "#average_steps.head()\n",
    "\n",
    "average_steps\n",
    "\n",
    "## \n",
    "#total_steps_perperson = activity_levels.groupby(\"Id\")[\"TotalSteps\"].sum()\n",
    "#total_steps_perperson \n"
   ]
  },
  {
   "cell_type": "markdown",
   "id": "ae607969-f9f6-4967-976d-6ad9b808711c",
   "metadata": {},
   "source": [
    "Analysis\n",
    "\n",
    "A graph showing the average daily steps per individual participant in relation to the 10,000 step goal. This graph is a clearer representation of the same findings in the previous graph, whereby each user is a distinct dot. However, the use of mean steps shows how consistently achievable the goal is. 20% of the participants met the goal consistently, with 80% of the participants falling beneath.\n",
    "This further substantiates participants find fitbit's goal difficult to maintain. \n",
    "The quality of a goal that is difficult to maintain is commendable, as a goal that is too easy will likely produce less satisifaction. Furthermore, a goal that is out of reach, can also prevent people from trying. \n",
    "Overall, it appears that the fitbit goal of 10,000 steps presents an appropriate challenge for people to increase their activity levels and improve their health. \n"
   ]
  },
  {
   "cell_type": "code",
   "execution_count": 91,
   "id": "c99c1ae1-7743-433d-9ede-3b6c14b561e4",
   "metadata": {},
   "outputs": [
    {
     "data": {
      "image/png": "[encoded data removed]",
      "text/plain": [
       "<Figure size 640x480 with 1 Axes>"
      ]
     },
     "metadata": {},
     "output_type": "display_data"
    }
   ],
   "source": [
    "\n",
    "\n",
    "average_steps.plot.scatter(x='Id', y='Average_steps')\n",
    "plt.axhline(y = 10000, color = 'r', linestyle = '-')\n",
    "plt.xlabel(\"Participants\")\n",
    "plt.ylabel(\"Average daily steps\")\n",
    "plt.title(\"The average step of users vs the 10,000 step goal\")\n",
    "plt.tick_params(labelbottom = False, bottom = False)\n",
    "plt.show()\n",
    "          \n",
    "\n",
    "\n",
    "    "
   ]
  },
  {
   "cell_type": "code",
   "execution_count": 45,
   "id": "c79dd6c8-039b-431d-8c9f-fc7b8dd9a3a9",
   "metadata": {},
   "outputs": [
    {
     "data": {
      "text/html": [
       "<div>\n",
       "<style scoped>\n",
       "    .dataframe tbody tr th:only-of-type {\n",
       "        vertical-align: middle;\n",
       "    }\n",
       "\n",
       "    .dataframe tbody tr th {\n",
       "        vertical-align: top;\n",
       "    }\n",
       "\n",
       "    .dataframe thead th {\n",
       "        text-align: right;\n",
       "    }\n",
       "</style>\n",
       "<table border=\"1\" class=\"dataframe\">\n",
       "  <thead>\n",
       "    <tr style=\"text-align: right;\">\n",
       "      <th></th>\n",
       "      <th>Id</th>\n",
       "      <th>TotalSteps</th>\n",
       "      <th>VeryActiveMinutes</th>\n",
       "      <th>FairlyActiveMinutes</th>\n",
       "      <th>LightlyActiveMinutes</th>\n",
       "      <th>SedentaryMinutes</th>\n",
       "    </tr>\n",
       "  </thead>\n",
       "  <tbody>\n",
       "    <tr>\n",
       "      <th>0</th>\n",
       "      <td>1503960366</td>\n",
       "      <td>13162</td>\n",
       "      <td>25</td>\n",
       "      <td>13</td>\n",
       "      <td>328</td>\n",
       "      <td>728</td>\n",
       "    </tr>\n",
       "    <tr>\n",
       "      <th>1</th>\n",
       "      <td>1503960366</td>\n",
       "      <td>10735</td>\n",
       "      <td>21</td>\n",
       "      <td>19</td>\n",
       "      <td>217</td>\n",
       "      <td>776</td>\n",
       "    </tr>\n",
       "    <tr>\n",
       "      <th>2</th>\n",
       "      <td>1503960366</td>\n",
       "      <td>10460</td>\n",
       "      <td>30</td>\n",
       "      <td>11</td>\n",
       "      <td>181</td>\n",
       "      <td>1218</td>\n",
       "    </tr>\n",
       "    <tr>\n",
       "      <th>3</th>\n",
       "      <td>1503960366</td>\n",
       "      <td>9762</td>\n",
       "      <td>29</td>\n",
       "      <td>34</td>\n",
       "      <td>209</td>\n",
       "      <td>726</td>\n",
       "    </tr>\n",
       "    <tr>\n",
       "      <th>4</th>\n",
       "      <td>1503960366</td>\n",
       "      <td>12669</td>\n",
       "      <td>36</td>\n",
       "      <td>10</td>\n",
       "      <td>221</td>\n",
       "      <td>773</td>\n",
       "    </tr>\n",
       "    <tr>\n",
       "      <th>...</th>\n",
       "      <td>...</td>\n",
       "      <td>...</td>\n",
       "      <td>...</td>\n",
       "      <td>...</td>\n",
       "      <td>...</td>\n",
       "      <td>...</td>\n",
       "    </tr>\n",
       "    <tr>\n",
       "      <th>1392</th>\n",
       "      <td>8877689391</td>\n",
       "      <td>23014</td>\n",
       "      <td>70</td>\n",
       "      <td>29</td>\n",
       "      <td>359</td>\n",
       "      <td>982</td>\n",
       "    </tr>\n",
       "    <tr>\n",
       "      <th>1393</th>\n",
       "      <td>8877689391</td>\n",
       "      <td>16470</td>\n",
       "      <td>90</td>\n",
       "      <td>9</td>\n",
       "      <td>289</td>\n",
       "      <td>1052</td>\n",
       "    </tr>\n",
       "    <tr>\n",
       "      <th>1394</th>\n",
       "      <td>8877689391</td>\n",
       "      <td>28497</td>\n",
       "      <td>128</td>\n",
       "      <td>46</td>\n",
       "      <td>211</td>\n",
       "      <td>1055</td>\n",
       "    </tr>\n",
       "    <tr>\n",
       "      <th>1395</th>\n",
       "      <td>8877689391</td>\n",
       "      <td>10622</td>\n",
       "      <td>18</td>\n",
       "      <td>7</td>\n",
       "      <td>225</td>\n",
       "      <td>1190</td>\n",
       "    </tr>\n",
       "    <tr>\n",
       "      <th>1396</th>\n",
       "      <td>8877689391</td>\n",
       "      <td>2350</td>\n",
       "      <td>0</td>\n",
       "      <td>0</td>\n",
       "      <td>58</td>\n",
       "      <td>531</td>\n",
       "    </tr>\n",
       "  </tbody>\n",
       "</table>\n",
       "<p>1397 rows × 6 columns</p>\n",
       "</div>"
      ],
      "text/plain": [
       "              Id  TotalSteps  VeryActiveMinutes  FairlyActiveMinutes  \\\n",
       "0     1503960366       13162                 25                   13   \n",
       "1     1503960366       10735                 21                   19   \n",
       "2     1503960366       10460                 30                   11   \n",
       "3     1503960366        9762                 29                   34   \n",
       "4     1503960366       12669                 36                   10   \n",
       "...          ...         ...                ...                  ...   \n",
       "1392  8877689391       23014                 70                   29   \n",
       "1393  8877689391       16470                 90                    9   \n",
       "1394  8877689391       28497                128                   46   \n",
       "1395  8877689391       10622                 18                    7   \n",
       "1396  8877689391        2350                  0                    0   \n",
       "\n",
       "      LightlyActiveMinutes  SedentaryMinutes  \n",
       "0                      328               728  \n",
       "1                      217               776  \n",
       "2                      181              1218  \n",
       "3                      209               726  \n",
       "4                      221               773  \n",
       "...                    ...               ...  \n",
       "1392                   359               982  \n",
       "1393                   289              1052  \n",
       "1394                   211              1055  \n",
       "1395                   225              1190  \n",
       "1396                    58               531  \n",
       "\n",
       "[1397 rows x 6 columns]"
      ]
     },
     "execution_count": 45,
     "metadata": {},
     "output_type": "execute_result"
    }
   ],
   "source": [
    "###Part 3 statistical testing \n",
    "##bringing down previous dataframes for ease\n",
    "goal_reached\n",
    "activity_levels\n"
   ]
  },
  {
   "cell_type": "code",
   "execution_count": 47,
   "id": "2de4f8f1-ba33-4464-a419-eb9d9e47e788",
   "metadata": {},
   "outputs": [
    {
     "name": "stdout",
     "output_type": "stream",
     "text": [
      "            Id  Average_steps Activity User Type\n",
      "0   1503960366   11935.780000        very active\n",
      "1   1624580081    5167.200000     lightly active\n",
      "2   1644430081    7780.925000      fairly active\n",
      "3   1844505072    2876.023256          sedentary\n",
      "4   1927972279    1269.069767          sedentary\n",
      "5   2022484408   11595.093023        very active\n",
      "6   2026352035    4960.139535          sedentary\n",
      "7   2320127002    4276.372093          sedentary\n",
      "8   2347167796    9647.121212      fairly active\n",
      "9   2873212765    7299.255814     lightly active\n",
      "10  2891001357     773.625000          sedentary\n",
      "11  3372868164    6616.933333     lightly active\n",
      "12  3977333714   10321.523810        very active\n",
      "13  4020332650    4049.761905          sedentary\n",
      "14  4057192912    2103.972222          sedentary\n",
      "15  4319703577    7422.813953     lightly active\n",
      "16  4388161847    8595.692308      fairly active\n",
      "17  4445114986    4632.369565          sedentary\n",
      "18  4558609924    7154.930233     lightly active\n",
      "19  4702921684    8367.065217      fairly active\n",
      "20  5553957443    8540.627907      fairly active\n",
      "21  5577150313    8385.926829      fairly active\n",
      "22  6117666160    7363.000000     lightly active\n",
      "23  6290855005    4615.846154          sedentary\n",
      "24  6391747486    1336.888889          sedentary\n",
      "25  6775888955    3301.228571          sedentary\n",
      "26  6962181067   10679.888889        very active\n",
      "27  7007744171   11619.289474        very active\n",
      "28  7086361926    8459.813953      fairly active\n",
      "29  8053475328   14784.523810        very active\n",
      "30  8253242879    4898.064516          sedentary\n",
      "31  8378563200    8555.162791      fairly active\n",
      "32  8583815059    6346.615385     lightly active\n",
      "33  8792009665    2217.000000          sedentary\n",
      "34  8877689391   16424.325581        very active\n"
     ]
    }
   ],
   "source": [
    "###getting comparing activity populations and chi squared) \n",
    "def activity_user_type(TotalSteps):\n",
    "    if TotalSteps < 5000:\n",
    "        return \"sedentary\"\n",
    "    elif 5000 <= TotalSteps <7500:\n",
    "        return \"lightly active\"\n",
    "    elif 7500 <= TotalSteps <10000:\n",
    "        return \"fairly active\"\n",
    "    else:\n",
    "        return \"very active\"\n",
    "average_steps['Activity User Type'] = average_steps['Average_steps'].apply(activity_user_type)\n",
    "print(average_steps)\n",
    "\n",
    "\n"
   ]
  },
  {
   "cell_type": "markdown",
   "id": "c1cc02dd-9d6e-422a-bd6d-8077bfadd63f",
   "metadata": {},
   "source": []
  },
  {
   "cell_type": "code",
   "execution_count": 97,
   "id": "27a5e55c-e461-44c5-b8cc-a0a624f13f76",
   "metadata": {
    "scrolled": true
   },
   "outputs": [
    {
     "data": {
      "text/html": [
       "<div>\n",
       "<style scoped>\n",
       "    .dataframe tbody tr th:only-of-type {\n",
       "        vertical-align: middle;\n",
       "    }\n",
       "\n",
       "    .dataframe tbody tr th {\n",
       "        vertical-align: top;\n",
       "    }\n",
       "\n",
       "    .dataframe thead th {\n",
       "        text-align: right;\n",
       "    }\n",
       "</style>\n",
       "<table border=\"1\" class=\"dataframe\">\n",
       "  <thead>\n",
       "    <tr style=\"text-align: right;\">\n",
       "      <th></th>\n",
       "      <th>Activity User Type</th>\n",
       "      <th>total</th>\n",
       "      <th>totals</th>\n",
       "      <th>percent</th>\n",
       "    </tr>\n",
       "  </thead>\n",
       "  <tbody>\n",
       "    <tr>\n",
       "      <th>0</th>\n",
       "      <td>sedentary</td>\n",
       "      <td>13</td>\n",
       "      <td>35</td>\n",
       "      <td>0.371429</td>\n",
       "    </tr>\n",
       "    <tr>\n",
       "      <th>1</th>\n",
       "      <td>fairly active</td>\n",
       "      <td>8</td>\n",
       "      <td>35</td>\n",
       "      <td>0.228571</td>\n",
       "    </tr>\n",
       "    <tr>\n",
       "      <th>2</th>\n",
       "      <td>very active</td>\n",
       "      <td>7</td>\n",
       "      <td>35</td>\n",
       "      <td>0.200000</td>\n",
       "    </tr>\n",
       "    <tr>\n",
       "      <th>3</th>\n",
       "      <td>lightly active</td>\n",
       "      <td>7</td>\n",
       "      <td>35</td>\n",
       "      <td>0.200000</td>\n",
       "    </tr>\n",
       "  </tbody>\n",
       "</table>\n",
       "</div>"
      ],
      "text/plain": [
       "  Activity User Type  total  totals   percent\n",
       "0          sedentary     13      35  0.371429\n",
       "1      fairly active      8      35  0.228571\n",
       "2        very active      7      35  0.200000\n",
       "3     lightly active      7      35  0.200000"
      ]
     },
     "execution_count": 97,
     "metadata": {},
     "output_type": "execute_result"
    }
   ],
   "source": [
    "###create poputions of user type\n",
    "count_type = average_steps['Activity User Type'].value_counts().reset_index()\n",
    "count_type.columns = ['Activity User Type', 'total']\n",
    "\n",
    "count_type\n",
    "\n",
    "## percentages\n",
    "count_type['totals'] = count_type['total'].sum()\n",
    "count_type['percent'] = count_type['total']/count_type['totals']\n",
    "count_type\n"
   ]
  },
  {
   "cell_type": "markdown",
   "id": "7a73a10b-6a3c-4334-b4af-555836b1c8ef",
   "metadata": {},
   "source": [
    "Notation:\n",
    "The level of activity has been broken down into step ranges. Below 5,000 steps a day is considered sedentary. Between 5,000 and 7,500 is considered lightly active. Between 7,500-10,000, is considered fairly active. And very active is determined as those who exceeded 10,000 steps. \n",
    "The total collumn shows the number of participants whose average steps fell into each category. Sedentary users with less than 5000 steps were the largest population at 37% of participants. The other categories present near even results, with 1 more person performing fairly active step counts than very active and lightly active. Given the almost even spread of people in step categories, except for the sedentary people, a chi-square test can determine whether the larger number of sedentary users is a significantly different result from an even spread of user step activity. \n",
    "\n",
    "Alternative hypothesis: User showed a preference for a certain level of activity type.\n",
    "\n",
    "\n",
    "Null hypothesis: differences seen in user type can be accounted for by random distribution."
   ]
  },
  {
   "cell_type": "code",
   "execution_count": 99,
   "id": "a02fa2de-9c03-45d2-bf7b-f6063de3b533",
   "metadata": {
    "scrolled": true
   },
   "outputs": [
    {
     "data": {
      "text/html": [
       "<div>\n",
       "<style scoped>\n",
       "    .dataframe tbody tr th:only-of-type {\n",
       "        vertical-align: middle;\n",
       "    }\n",
       "\n",
       "    .dataframe tbody tr th {\n",
       "        vertical-align: top;\n",
       "    }\n",
       "\n",
       "    .dataframe thead th {\n",
       "        text-align: right;\n",
       "    }\n",
       "</style>\n",
       "<table border=\"1\" class=\"dataframe\">\n",
       "  <thead>\n",
       "    <tr style=\"text-align: right;\">\n",
       "      <th></th>\n",
       "      <th>Activity User Type</th>\n",
       "      <th>total</th>\n",
       "      <th>totals</th>\n",
       "      <th>percentage</th>\n",
       "      <th>expected</th>\n",
       "    </tr>\n",
       "  </thead>\n",
       "  <tbody>\n",
       "    <tr>\n",
       "      <th>0</th>\n",
       "      <td>sedentary</td>\n",
       "      <td>13</td>\n",
       "      <td>35</td>\n",
       "      <td>0.371429</td>\n",
       "      <td>8.75</td>\n",
       "    </tr>\n",
       "    <tr>\n",
       "      <th>1</th>\n",
       "      <td>fairly active</td>\n",
       "      <td>8</td>\n",
       "      <td>35</td>\n",
       "      <td>0.228571</td>\n",
       "      <td>8.75</td>\n",
       "    </tr>\n",
       "    <tr>\n",
       "      <th>2</th>\n",
       "      <td>very active</td>\n",
       "      <td>7</td>\n",
       "      <td>35</td>\n",
       "      <td>0.200000</td>\n",
       "      <td>8.75</td>\n",
       "    </tr>\n",
       "    <tr>\n",
       "      <th>3</th>\n",
       "      <td>lightly active</td>\n",
       "      <td>7</td>\n",
       "      <td>35</td>\n",
       "      <td>0.200000</td>\n",
       "      <td>8.75</td>\n",
       "    </tr>\n",
       "  </tbody>\n",
       "</table>\n",
       "</div>"
      ],
      "text/plain": [
       "  Activity User Type  total  totals  percentage  expected\n",
       "0          sedentary     13      35    0.371429      8.75\n",
       "1      fairly active      8      35    0.228571      8.75\n",
       "2        very active      7      35    0.200000      8.75\n",
       "3     lightly active      7      35    0.200000      8.75"
      ]
     },
     "execution_count": 99,
     "metadata": {},
     "output_type": "execute_result"
    }
   ],
   "source": [
    "##Statistical test- is the variation in activity levels by step a chance distribution, or is there significant variation in sample activity levels by step?\n",
    "count_type[1] = 8.75\n",
    "count_type\n",
    "count_type.columns = [\"Activity User Type\", \"total\", \"totals\", \"percentage\", \"expected\"]\n",
    "count_type"
   ]
  },
  {
   "cell_type": "code",
   "execution_count": 77,
   "id": "ea81b30f-75fc-40a8-8eeb-3d3d6299d127",
   "metadata": {},
   "outputs": [
    {
     "data": {
      "text/plain": [
       "7.814727903251179"
      ]
     },
     "execution_count": 77,
     "metadata": {},
     "output_type": "execute_result"
    }
   ],
   "source": [
    "##CHI-SQUARE\n",
    "import scipy.stats as stats\n",
    "critical_value = stats.chi2.ppf(q = 0.95, df = 3)\n",
    "critical_value"
   ]
  },
  {
   "cell_type": "code",
   "execution_count": 79,
   "id": "ac317369-7c95-40aa-bfa9-f6080b2d1ca5",
   "metadata": {},
   "outputs": [
    {
     "data": {
      "text/plain": [
       "Power_divergenceResult(statistic=2.828571428571429, pvalue=0.4188181226463754)"
      ]
     },
     "execution_count": 79,
     "metadata": {},
     "output_type": "execute_result"
    }
   ],
   "source": [
    "stats.chisquare(count_type['total'], count_type['expected'])"
   ]
  },
  {
   "cell_type": "markdown",
   "id": "41e58369-16b0-4284-a862-a0e4ae8c86d5",
   "metadata": {},
   "source": [
    "Chi-square results\n",
    "the pvalue is greater than 5% and the chi-square values is lower than than the critical value. \n",
    "In this case, the variation seen (most clearly in the number of people categorised as sedentary) was not significantly different from an even spread of participants across activity levels, with the variation occurring by chance around 41.9% of the time. This suggests that the activity level of participants is random, accepting the null hypothesis. "
   ]
  },
  {
   "cell_type": "markdown",
   "id": "cbbf700c-3d54-450b-a060-403f786e7bcb",
   "metadata": {},
   "source": [
    "### Comparison of sample population with Australian popupulation"
   ]
  },
  {
   "cell_type": "markdown",
   "id": "d9281101-2904-483e-bf9b-3250c5e22093",
   "metadata": {
    "scrolled": true
   },
   "source": [
    "According to the Australian Bureau of Statis,a National Health Survey between 2011-2012 yielded the following percentages of the population falling under theses categories. \n",
    "Sedentary = 21%\n",
    "lightly active = 35%\n",
    "fairly active= 28%\n",
    "very active = 15%\n",
    "\n"
   ]
  },
  {
   "cell_type": "code",
   "execution_count": 139,
   "id": "6cef700d-b0d2-4ea5-b676-32d57f7bb5ec",
   "metadata": {},
   "outputs": [
    {
     "data": {
      "text/html": [
       "<div>\n",
       "<style scoped>\n",
       "    .dataframe tbody tr th:only-of-type {\n",
       "        vertical-align: middle;\n",
       "    }\n",
       "\n",
       "    .dataframe tbody tr th {\n",
       "        vertical-align: top;\n",
       "    }\n",
       "\n",
       "    .dataframe thead th {\n",
       "        text-align: right;\n",
       "    }\n",
       "</style>\n",
       "<table border=\"1\" class=\"dataframe\">\n",
       "  <thead>\n",
       "    <tr style=\"text-align: right;\">\n",
       "      <th></th>\n",
       "      <th>observed</th>\n",
       "      <th>expected</th>\n",
       "    </tr>\n",
       "  </thead>\n",
       "  <tbody>\n",
       "    <tr>\n",
       "      <th>sedentary</th>\n",
       "      <td>7.4</td>\n",
       "      <td>8.75</td>\n",
       "    </tr>\n",
       "    <tr>\n",
       "      <th>lightly active</th>\n",
       "      <td>12.3</td>\n",
       "      <td>8.75</td>\n",
       "    </tr>\n",
       "    <tr>\n",
       "      <th>fairly active</th>\n",
       "      <td>10.0</td>\n",
       "      <td>8.75</td>\n",
       "    </tr>\n",
       "    <tr>\n",
       "      <th>active</th>\n",
       "      <td>5.3</td>\n",
       "      <td>8.75</td>\n",
       "    </tr>\n",
       "  </tbody>\n",
       "</table>\n",
       "</div>"
      ],
      "text/plain": [
       "                observed  expected\n",
       "sedentary            7.4      8.75\n",
       "lightly active      12.3      8.75\n",
       "fairly active       10.0      8.75\n",
       "active               5.3      8.75"
      ]
     },
     "execution_count": 139,
     "metadata": {},
     "output_type": "execute_result"
    }
   ],
   "source": [
    "##Making a df for Australian bureau if applied to the same number of participants \n",
    "##rounded the numbers up to make 35, as the percentages given only make up 99%\n",
    "observed = pd.Series([7.4, 12.3, 10, 5.3], index= [\"sedentary\", \"lightly active\", \"fairly active\", \"active\"])\n",
    "AB_df = pd.DataFrame([observed]).T\n",
    "AB_df[1] = 8.75\n",
    "AB_df.columns = [\"observed\", \"expected\"]\n",
    "AB_df"
   ]
  },
  {
   "cell_type": "code",
   "execution_count": 141,
   "id": "82efdc29-1881-4af8-bbd8-5304abb4eaa8",
   "metadata": {},
   "outputs": [
    {
     "data": {
      "text/plain": [
       "7.814727903251179"
      ]
     },
     "execution_count": 141,
     "metadata": {},
     "output_type": "execute_result"
    }
   ],
   "source": [
    "critical_value = stats.chi2.ppf(q = 0.95, df = 3)\n",
    "critical_value"
   ]
  },
  {
   "cell_type": "code",
   "execution_count": 143,
   "id": "593ca7d2-6ada-4a04-815d-8e9daa6590ed",
   "metadata": {},
   "outputs": [
    {
     "data": {
      "text/plain": [
       "Power_divergenceResult(statistic=3.187428571428572, pvalue=0.36362027847809164)"
      ]
     },
     "execution_count": 143,
     "metadata": {},
     "output_type": "execute_result"
    }
   ],
   "source": [
    "stats.chisquare(AB_df['observed'], AB_df['expected'])"
   ]
  },
  {
   "cell_type": "markdown",
   "id": "2ec23f05-481f-4827-804a-a63cbf057c73",
   "metadata": {},
   "source": [
    "Notation:\n",
    "Again the chi-square value is lower than the critical value, and the p-value is greater than 5%, showing that the different activity levels of the Australian population in this study did not vary significantly from an even distribution. "
   ]
  },
  {
   "cell_type": "markdown",
   "id": "231a82ad-f5e1-42d4-aff4-f8fbdf9e538f",
   "metadata": {},
   "source": [
    "### Percentage comparison of fitbit users and Australian Bureau "
   ]
  },
  {
   "cell_type": "code",
   "execution_count": 153,
   "id": "85e2fac2-a466-4dc4-a48d-7f98d0d10c05",
   "metadata": {},
   "outputs": [
    {
     "name": "stdout",
     "output_type": "stream",
     "text": [
      "                Fitbit sample (%)  Australian Bureau (%)\n",
      "sedentary                      37                     21\n",
      "lightly active                 20                     35\n",
      "fairly active                  23                     28\n",
      "very active                    20                     15\n"
     ]
    }
   ],
   "source": [
    "#This_study = pd.Series([37, 20, 23, 20]), index= [\"sedentary\", \"lightly active\", \"fairly active\", \"very active\"]\n",
    "#Percentage_comparison = pd.DataFrame([This_study]).T\n",
    "#Percentage_comparison['Australian Bureau'] = [21, 35, 28,15]\n",
    "#percentage_comparison\n",
    "This_study = {'Fitbit sample (%)': pd.Series([37,20,23,20], \n",
    "                                         index=['sedentary', 'lightly active', 'fairly active', 'very active']),\n",
    "              'Australian Bureau (%)': pd.Series([21, 35, 28, 15],\n",
    "                                             index=['sedentary', 'lightly active', 'fairly active', 'very active'])}\n",
    "Percentage_df = pd.DataFrame(This_study)\n",
    "print(Percentage_df)\n",
    "\n"
   ]
  },
  {
   "cell_type": "markdown",
   "id": "8e10945f-8284-4e4f-ba7c-e7b32fed2894",
   "metadata": {},
   "source": [
    "Notation: Fitbit sample shows a greater percentage of sedentary users. Australian Bureau shows a greater number of lightly to fairly active people, with a small percentage performing lower for very active fitbit users. Overall, both distributions do not statistically vary from an even distribution. This suggests that the data obtained in this study is similar to that of the Australian population, with both showing a fairly even spread of activity levels. This is especially shown if you add up the fairly active and very active people across both populations, seeing that in both cases a category of fairly active to very active people made up 43% of the sample size, and the general Australian population. "
   ]
  },
  {
   "cell_type": "markdown",
   "id": "100d9577-f7e7-4384-919e-865b5611b338",
   "metadata": {},
   "source": [
    "## Final Conclusions"
   ]
  },
  {
   "cell_type": "markdown",
   "id": "d75a2d22-c056-428e-8df7-cef42ea269d8",
   "metadata": {},
   "source": [
    "How appropriate or achievable is the companies 10,000 step goal?\n",
    "Overall, 10,000 steps appears to be an occassionally achievable goal, with the majority of users meeting the goal at least once. However, achieving this goal daily proved difficult, with just 20% managing consistent levels of active to very active steps. \n",
    "\n",
    "Did the fitbit users favour a steps bracket, or did they show even distribution in terms of activity?\n",
    "Fitbit user activity levels by step did not vary significantly from an even distribution, showing that the fitbit users were not statistically more active or less active, and tended to have a fairly even spread across activity levels. \n",
    "\n",
    "How did fitbit activity levels by step compare with the Australian general popuplation?\n",
    "Both Fitbit users and The general population appear to have a fairly even distribution of sedentary, active, fairly active, and very active people. This suggests that the step metric of activity is a good metric for measuring general activity, but does not suggest that purchasing a fitbit increased the populations general fitness in the time that the study was carried out.\n",
    "\n",
    "Future considerations regarding Fitbit marketting and steps:\n",
    "In order to encourage users to exercise more and to set FitBit users a part from the general population, Fitbit should utilise gradual goal increases with regards to the individual users' base fitness. By making goals more incremental, more user's might show improvement. Advertising that an increase in your steps of 500-1000 per week until you reach the 10,000 goal, could be another strategy to provoke user engagment.\n",
    "Fitbit should also assess how to keep people engaged with their step count, as consistency of use showed huge variance and goals were difficult to maintain on a regular basis. For those that generally exceed the goal, FitBit may also want to consider additional features or rewards that will keep them wanting to track their step take. \n",
    "\n"
   ]
  },
  {
   "cell_type": "code",
   "execution_count": null,
   "id": "b3769a97-9c30-4b01-812c-d2e347b8bce2",
   "metadata": {},
   "outputs": [],
   "source": []
  }
 ],
 "metadata": {
  "kernelspec": {
   "display_name": "Python 3 (ipykernel)",
   "language": "python",
   "name": "python3"
  },
  "language_info": {
   "codemirror_mode": {
    "name": "ipython",
    "version": 3
   },
   "file_extension": ".py",
   "mimetype": "text/x-python",
   "name": "python",
   "nbconvert_exporter": "python",
   "pygments_lexer": "ipython3",
   "version": "3.11.7"
  }
 },
 "nbformat": 4,
 "nbformat_minor": 5
}
